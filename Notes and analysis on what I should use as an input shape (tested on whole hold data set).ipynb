{
 "cells": [
  {
   "cell_type": "code",
   "execution_count": 1,
   "metadata": {},
   "outputs": [],
   "source": [
    "from PIL import Image\n",
    "from statistics import mode\n",
    "from statistics import mean\n",
    "import os"
   ]
  },
  {
   "cell_type": "code",
   "execution_count": 2,
   "metadata": {},
   "outputs": [],
   "source": [
    "widthArray = []\n",
    "heightArray = []\n",
    "totalAmountOfPixels = []\n",
    "listOfFolders = []"
   ]
  },
  {
   "cell_type": "code",
   "execution_count": 3,
   "metadata": {},
   "outputs": [],
   "source": [
    "for filenames in os.listdir(\"/Users/Niko/tf_files/learnfaces\"):\n",
    "    listOfFolders.append(filenames)\n",
    "\n",
    "for x in range(len(listOfFolders)):\n",
    "    if os.path.isdir(f'/Users/Niko/tf_files/learnfaces/{listOfFolders[x]}'):\n",
    "        for file_name in os.listdir(f'/Users/Niko/tf_files/learnfaces/{listOfFolders[x]}'):\n",
    "            if file_name.endswith(\".jpg\"):\n",
    "                #print(f'/Users/Niko/tf_files/learnfaces/{filenames}/{file_name}')\n",
    "                with Image.open(f'/Users/Niko/tf_files/learnfaces/{listOfFolders[x]}/{file_name}') as img:\n",
    "                    width, height = img.size\n",
    "                    widthArray.append(width)\n",
    "                    heightArray.append(height)\n",
    "                    totalAmountOfPixels.append((width*height))\n",
    "    else:\n",
    "        continue"
   ]
  },
  {
   "cell_type": "code",
   "execution_count": 4,
   "metadata": {},
   "outputs": [
    {
     "name": "stdout",
     "output_type": "stream",
     "text": [
      "\n",
      "average width is 204.46554279362726\n",
      "min = 80 & max = 1300 & mode = 201\n",
      "\n",
      "average height is 253.01407928862542\n",
      "min = 69 & max = 866 & mode = 256\n",
      "\n",
      "average total amount of pixels is 51660.58308632827\n",
      "min = 6003 & max = 1125800 & mode = 51456\n"
     ]
    }
   ],
   "source": [
    "averageWidth = mean(widthArray)\n",
    "averageHeight = mean(heightArray)\n",
    "averageTotalAmountOfPixels = mean(totalAmountOfPixels)\n",
    "modeOfWidth = mode(widthArray)\n",
    "modeOfHeight = mode(heightArray)\n",
    "modeOfTotalAmountOfPixels = mode(totalAmountOfPixels)\n",
    "\n",
    "print()\n",
    "print(f'average width is {averageWidth}')\n",
    "print(f'min = {min(widthArray)} & max = {max(widthArray)} & mode = {modeOfWidth}')\n",
    "print()\n",
    "print(f'average height is {averageHeight}')\n",
    "print(f'min = {min(heightArray)} & max = {max(heightArray)} & mode = {modeOfHeight}')\n",
    "print()\n",
    "print(f'average total amount of pixels is {averageTotalAmountOfPixels}')\n",
    "print(f'min = {min(totalAmountOfPixels)} & max = {max(totalAmountOfPixels)} & mode = {modeOfTotalAmountOfPixels}')"
   ]
  }
 ],
 "metadata": {
  "kernelspec": {
   "display_name": "Python 3",
   "language": "python",
   "name": "python3"
  },
  "language_info": {
   "codemirror_mode": {
    "name": "ipython",
    "version": 3
   },
   "file_extension": ".py",
   "mimetype": "text/x-python",
   "name": "python",
   "nbconvert_exporter": "python",
   "pygments_lexer": "ipython3",
   "version": "3.6.3"
  }
 },
 "nbformat": 4,
 "nbformat_minor": 2
}
