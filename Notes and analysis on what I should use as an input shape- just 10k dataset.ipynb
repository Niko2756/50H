{
 "cells": [
  {
   "cell_type": "code",
   "execution_count": 1,
   "metadata": {},
   "outputs": [],
   "source": [
    "from PIL import Image\n",
    "from statistics import mode\n",
    "from statistics import mean\n",
    "import os"
   ]
  },
  {
   "cell_type": "code",
   "execution_count": 2,
   "metadata": {},
   "outputs": [],
   "source": [
    "widthArray = []\n",
    "heightArray = []\n",
    "totalAmountOfPixels = []\n",
    "listOfFolders = []"
   ]
  },
  {
   "cell_type": "code",
   "execution_count": 3,
   "metadata": {},
   "outputs": [],
   "source": [
    "for file_name in os.listdir('/Users/Niko/tf_files/Facedatasets/10k US Adult Faces Database/Face Images'):\n",
    "    if file_name.endswith(\".jpg\"):\n",
    "        with Image.open(f'/Users/Niko/tf_files/Facedatasets/10k US Adult Faces Database/Face Images/{file_name}') as img:\n",
    "            width, height = img.size\n",
    "            widthArray.append(width)\n",
    "            heightArray.append(height)\n",
    "            totalAmountOfPixels.append((width*height))"
   ]
  },
  {
   "cell_type": "code",
   "execution_count": 4,
   "metadata": {},
   "outputs": [
    {
     "name": "stdout",
     "output_type": "stream",
     "text": [
      "\n",
      "average width is 202.0687450826121\n",
      "min = 151 & max = 394 & mode = 201\n",
      "\n",
      "average height is 256.0302911093627\n",
      "min = 256 & max = 564 & mode = 256\n",
      "\n",
      "average total amount of pixels is 51741.53343823761\n",
      "min = 38656 & max = 222216 & mode = 51456\n"
     ]
    }
   ],
   "source": [
    "averageWidth = mean(widthArray)\n",
    "averageHeight = mean(heightArray)\n",
    "averageTotalAmountOfPixels = mean(totalAmountOfPixels)\n",
    "modeOfWidth = mode(widthArray)\n",
    "modeOfHeight = mode(heightArray)\n",
    "modeOfTotalAmountOfPixels = mode(totalAmountOfPixels)\n",
    "\n",
    "print()\n",
    "print(f'average width is {averageWidth}')\n",
    "print(f'min = {min(widthArray)} & max = {max(widthArray)} & mode = {modeOfWidth}')\n",
    "print()\n",
    "print(f'average height is {averageHeight}')\n",
    "print(f'min = {min(heightArray)} & max = {max(heightArray)} & mode = {modeOfHeight}')\n",
    "print()\n",
    "print(f'average total amount of pixels is {averageTotalAmountOfPixels}')\n",
    "print(f'min = {min(totalAmountOfPixels)} & max = {max(totalAmountOfPixels)} & mode = {modeOfTotalAmountOfPixels}')"
   ]
  }
 ],
 "metadata": {
  "kernelspec": {
   "display_name": "Python 3",
   "language": "python",
   "name": "python3"
  },
  "language_info": {
   "codemirror_mode": {
    "name": "ipython",
    "version": 3
   },
   "file_extension": ".py",
   "mimetype": "text/x-python",
   "name": "python",
   "nbconvert_exporter": "python",
   "pygments_lexer": "ipython3",
   "version": "3.6.3"
  }
 },
 "nbformat": 4,
 "nbformat_minor": 2
}
